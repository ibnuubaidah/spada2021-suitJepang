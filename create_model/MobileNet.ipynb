{
  "nbformat": 4,
  "nbformat_minor": 0,
  "metadata": {
    "colab": {
      "name": "Spada2ipynb",
      "provenance": [],
      "collapsed_sections": []
    },
    "kernelspec": {
      "name": "python3",
      "display_name": "Python 3"
    },
    "language_info": {
      "name": "python"
    },
    "accelerator": "GPU"
  },
  "cells": [
    {
      "cell_type": "code",
      "execution_count": null,
      "metadata": {
        "id": "W37tuwNGpgnc"
      },
      "outputs": [],
      "source": [
        "# Import Library\n",
        "import os\n",
        "import tensorflow as tf\n",
        "import numpy as np\n",
        "import matplotlib.pyplot as plt"
      ]
    },
    {
      "cell_type": "code",
      "source": [
        "from google.colab import drive\n",
        "\n",
        "drive.mount('/content/drive')"
      ],
      "metadata": {
        "colab": {
          "base_uri": "https://localhost:8080/"
        },
        "id": "xt8axI-JpjHT",
        "outputId": "3152b593-166e-4a7e-efb5-6e79cb51133a"
      },
      "execution_count": null,
      "outputs": [
        {
          "output_type": "stream",
          "name": "stdout",
          "text": [
            "Drive already mounted at /content/drive; to attempt to forcibly remount, call drive.mount(\"/content/drive\", force_remount=True).\n"
          ]
        }
      ]
    },
    {
      "cell_type": "code",
      "source": [
        "base_dir = '/content/drive/MyDrive/Temp/Dataset'\n",
        "train_dir = os.path.join(base_dir, 'training')\n",
        "val_dir = os.path.join(base_dir, 'validation')"
      ],
      "metadata": {
        "id": "duuHhnDwpkHt"
      },
      "execution_count": null,
      "outputs": []
    },
    {
      "cell_type": "code",
      "source": [
        "# Pre-processing data dengan image augmentation.\n",
        "from tensorflow.keras.preprocessing.image import ImageDataGenerator\n",
        "\n",
        "# kalo g pake augmentasi yg ini\n",
        "# train_datagen = ImageDataGenerator(rescale=1./255,)\n",
        "\n",
        "# yg ini klo pake augmentasi\n",
        "train_datagen = ImageDataGenerator(\n",
        "                    rescale=1./255,\n",
        "                    rotation_range=40,\n",
        "                    width_shift_range=0.2,\n",
        "                    height_shift_range=0.2,\n",
        "                    horizontal_flip=True,\n",
        "                    shear_range = 0.2,\n",
        "                    zoom_range=0.2,\n",
        "                    fill_mode = 'nearest')\n",
        " \n",
        "test_datagen = ImageDataGenerator(rescale=1./255)"
      ],
      "metadata": {
        "id": "Dga5Np0wplKy"
      },
      "execution_count": null,
      "outputs": []
    },
    {
      "cell_type": "code",
      "source": [
        "# Mempersiapkan data latih yang akan dipelajari oleh model dengan image data generator.\n",
        "train_generator = train_datagen.flow_from_directory(\n",
        "        train_dir,               # direktori data latih\n",
        "        target_size=(300, 300),  # mengubah resolusi seluruh gambar menjadi 300x300 piksel\n",
        "        batch_size=10,\n",
        "        # karena kita merupakan masalah klasifikasi 3 kelas maka menggunakan class_mode = 'categorical'\n",
        "        class_mode='categorical')\n",
        " \n",
        "validation_generator = test_datagen.flow_from_directory(\n",
        "        val_dir,                # direktori data validasi\n",
        "        target_size=(300, 300), # mengubah resolusi seluruh gambar menjadi 300x300 piksel\n",
        "        batch_size=10,\n",
        "        # karena kita merupakan masalah klasifikasi 3 kelas maka menggunakan class_mode = 'categorical'\n",
        "        class_mode='categorical')"
      ],
      "metadata": {
        "colab": {
          "base_uri": "https://localhost:8080/"
        },
        "id": "-uQ6Qu5ZpmOb",
        "outputId": "07a46b6e-a62a-4aa8-ee09-f79bf2ec1928"
      },
      "execution_count": null,
      "outputs": [
        {
          "output_type": "stream",
          "name": "stdout",
          "text": [
            "Found 120 images belonging to 3 classes.\n",
            "Found 30 images belonging to 3 classes.\n"
          ]
        }
      ]
    },
    {
      "cell_type": "code",
      "source": [
        "# Membangun model sequential\n",
        "MobileNet_MODEL=tf.keras.applications.mobilenet.MobileNet(\n",
        "    input_shape=(300,300,3),\n",
        "    include_top=False,\n",
        "    weights='imagenet')\n",
        "\n",
        "MobileNet_MODEL.trainable = False\n",
        "global_average_layer = tf.keras.layers.GlobalAveragePooling2D()\n",
        "prediction_layer = tf.keras.layers.Dense(3,activation='Softmax')\n",
        "\n",
        "model = tf.keras.Sequential([\n",
        "    MobileNet_MODEL,\n",
        "    global_average_layer,\n",
        "    tf.keras.layers.Dense(128, activation='relu'),\n",
        "    prediction_layer\n",
        "])"
      ],
      "metadata": {
        "id": "u7a8-YFNpn3B",
        "colab": {
          "base_uri": "https://localhost:8080/"
        },
        "outputId": "11f0e879-1a6c-4fbf-a937-a7cb1d379bc5"
      },
      "execution_count": null,
      "outputs": [
        {
          "output_type": "stream",
          "name": "stdout",
          "text": [
            "WARNING:tensorflow:`input_shape` is undefined or non-square, or `rows` is not in [128, 160, 192, 224]. Weights for input shape (224, 224) will be loaded as the default.\n"
          ]
        }
      ]
    },
    {
      "cell_type": "code",
      "source": [
        "# Memanggil fungsi compile pada objek model, dan menentukan loss function serta optimizer.\n",
        "model.summary()\n",
        "model.compile(loss=tf.keras.losses.BinaryCrossentropy(),\n",
        "              optimizer=tf.optimizers.Adam(),\n",
        "              metrics=['accuracy'])"
      ],
      "metadata": {
        "colab": {
          "base_uri": "https://localhost:8080/"
        },
        "id": "wpWtO2lDpzra",
        "outputId": "cea54ca8-acaa-4653-c531-8bd433d4dec6"
      },
      "execution_count": null,
      "outputs": [
        {
          "output_type": "stream",
          "name": "stdout",
          "text": [
            "Model: \"sequential_2\"\n",
            "_________________________________________________________________\n",
            " Layer (type)                Output Shape              Param #   \n",
            "=================================================================\n",
            " mobilenet_1.00_224 (Functio  (None, 9, 9, 1024)       3228864   \n",
            " nal)                                                            \n",
            "                                                                 \n",
            " global_average_pooling2d_2   (None, 1024)             0         \n",
            " (GlobalAveragePooling2D)                                        \n",
            "                                                                 \n",
            " dense_5 (Dense)             (None, 128)               131200    \n",
            "                                                                 \n",
            " dense_4 (Dense)             (None, 3)                 387       \n",
            "                                                                 \n",
            "=================================================================\n",
            "Total params: 3,360,451\n",
            "Trainable params: 131,587\n",
            "Non-trainable params: 3,228,864\n",
            "_________________________________________________________________\n"
          ]
        }
      ]
    },
    {
      "cell_type": "code",
      "source": [
        "# Latih model dengan model.fit \n",
        "history = model.fit(\n",
        "      train_generator,\n",
        "      steps_per_epoch=8,       # 80 images = batch_size * steps\n",
        "      epochs=100,\n",
        "      validation_data=validation_generator,\n",
        "      validation_steps=2,      # 20 images = batch_size * steps\n",
        "      verbose=1,)"
      ],
      "metadata": {
        "colab": {
          "base_uri": "https://localhost:8080/"
        },
        "id": "2HdA_UIwp1C5",
        "outputId": "2cfcb89d-c68c-4d64-f827-1466b448a0da"
      },
      "execution_count": null,
      "outputs": [
        {
          "output_type": "stream",
          "name": "stdout",
          "text": [
            "Epoch 1/100\n",
            "8/8 [==============================] - 9s 859ms/step - loss: 0.7720 - accuracy: 0.4625 - val_loss: 0.4176 - val_accuracy: 0.7000\n",
            "Epoch 2/100\n",
            "8/8 [==============================] - 6s 741ms/step - loss: 0.3112 - accuracy: 0.8125 - val_loss: 0.3601 - val_accuracy: 0.7500\n",
            "Epoch 3/100\n",
            "8/8 [==============================] - 6s 733ms/step - loss: 0.3121 - accuracy: 0.7750 - val_loss: 0.2057 - val_accuracy: 0.9000\n",
            "Epoch 4/100\n",
            "8/8 [==============================] - 6s 744ms/step - loss: 0.1857 - accuracy: 0.9000 - val_loss: 0.2345 - val_accuracy: 0.8500\n",
            "Epoch 5/100\n",
            "8/8 [==============================] - 6s 738ms/step - loss: 0.1638 - accuracy: 0.9000 - val_loss: 0.1752 - val_accuracy: 0.9000\n",
            "Epoch 6/100\n",
            "8/8 [==============================] - 6s 745ms/step - loss: 0.1345 - accuracy: 0.9375 - val_loss: 0.1530 - val_accuracy: 0.9500\n",
            "Epoch 7/100\n",
            "8/8 [==============================] - 6s 724ms/step - loss: 0.0981 - accuracy: 0.9750 - val_loss: 0.0964 - val_accuracy: 0.9500\n",
            "Epoch 8/100\n",
            "8/8 [==============================] - 6s 733ms/step - loss: 0.0713 - accuracy: 0.9625 - val_loss: 0.0978 - val_accuracy: 0.9500\n",
            "Epoch 9/100\n",
            "8/8 [==============================] - 6s 715ms/step - loss: 0.0675 - accuracy: 1.0000 - val_loss: 0.1235 - val_accuracy: 0.9500\n",
            "Epoch 10/100\n",
            "8/8 [==============================] - 6s 751ms/step - loss: 0.0593 - accuracy: 0.9750 - val_loss: 0.0784 - val_accuracy: 1.0000\n",
            "Epoch 11/100\n",
            "8/8 [==============================] - 6s 748ms/step - loss: 0.0595 - accuracy: 0.9750 - val_loss: 0.0893 - val_accuracy: 0.9500\n",
            "Epoch 12/100\n",
            "8/8 [==============================] - 6s 722ms/step - loss: 0.0506 - accuracy: 0.9875 - val_loss: 0.0951 - val_accuracy: 1.0000\n",
            "Epoch 13/100\n",
            "8/8 [==============================] - 6s 739ms/step - loss: 0.0521 - accuracy: 0.9625 - val_loss: 0.0291 - val_accuracy: 1.0000\n",
            "Epoch 14/100\n",
            "8/8 [==============================] - 6s 747ms/step - loss: 0.0440 - accuracy: 0.9875 - val_loss: 0.1041 - val_accuracy: 1.0000\n",
            "Epoch 15/100\n",
            "8/8 [==============================] - 6s 740ms/step - loss: 0.0426 - accuracy: 0.9750 - val_loss: 0.0668 - val_accuracy: 1.0000\n",
            "Epoch 16/100\n",
            "8/8 [==============================] - 6s 761ms/step - loss: 0.0152 - accuracy: 1.0000 - val_loss: 0.0388 - val_accuracy: 1.0000\n",
            "Epoch 17/100\n",
            "8/8 [==============================] - 6s 716ms/step - loss: 0.0230 - accuracy: 1.0000 - val_loss: 0.0689 - val_accuracy: 0.9500\n",
            "Epoch 18/100\n",
            "8/8 [==============================] - 6s 729ms/step - loss: 0.0187 - accuracy: 1.0000 - val_loss: 0.0523 - val_accuracy: 1.0000\n",
            "Epoch 19/100\n",
            "8/8 [==============================] - 6s 733ms/step - loss: 0.0159 - accuracy: 1.0000 - val_loss: 0.0458 - val_accuracy: 1.0000\n",
            "Epoch 20/100\n",
            "8/8 [==============================] - 6s 746ms/step - loss: 0.0439 - accuracy: 0.9875 - val_loss: 0.0760 - val_accuracy: 0.9000\n",
            "Epoch 21/100\n",
            "8/8 [==============================] - 6s 733ms/step - loss: 0.0189 - accuracy: 1.0000 - val_loss: 0.0225 - val_accuracy: 1.0000\n",
            "Epoch 22/100\n",
            "8/8 [==============================] - 6s 735ms/step - loss: 0.0225 - accuracy: 1.0000 - val_loss: 0.0309 - val_accuracy: 1.0000\n",
            "Epoch 23/100\n",
            "8/8 [==============================] - 6s 748ms/step - loss: 0.0159 - accuracy: 1.0000 - val_loss: 0.0353 - val_accuracy: 1.0000\n",
            "Epoch 24/100\n",
            "8/8 [==============================] - 6s 744ms/step - loss: 0.0154 - accuracy: 0.9875 - val_loss: 0.0207 - val_accuracy: 1.0000\n",
            "Epoch 25/100\n",
            "8/8 [==============================] - 6s 756ms/step - loss: 0.0127 - accuracy: 1.0000 - val_loss: 0.0143 - val_accuracy: 1.0000\n",
            "Epoch 26/100\n",
            "8/8 [==============================] - 6s 742ms/step - loss: 0.0120 - accuracy: 1.0000 - val_loss: 0.0303 - val_accuracy: 1.0000\n",
            "Epoch 27/100\n",
            "8/8 [==============================] - 6s 715ms/step - loss: 0.0133 - accuracy: 1.0000 - val_loss: 0.0231 - val_accuracy: 1.0000\n",
            "Epoch 28/100\n",
            "8/8 [==============================] - 6s 734ms/step - loss: 0.0088 - accuracy: 1.0000 - val_loss: 0.0156 - val_accuracy: 1.0000\n",
            "Epoch 29/100\n",
            "8/8 [==============================] - 6s 718ms/step - loss: 0.0078 - accuracy: 1.0000 - val_loss: 0.0258 - val_accuracy: 1.0000\n",
            "Epoch 30/100\n",
            "8/8 [==============================] - 6s 740ms/step - loss: 0.0170 - accuracy: 0.9875 - val_loss: 0.0381 - val_accuracy: 0.9500\n",
            "Epoch 31/100\n",
            "8/8 [==============================] - 6s 733ms/step - loss: 0.0251 - accuracy: 0.9875 - val_loss: 0.0270 - val_accuracy: 1.0000\n",
            "Epoch 32/100\n",
            "8/8 [==============================] - 6s 734ms/step - loss: 0.0152 - accuracy: 0.9875 - val_loss: 0.0224 - val_accuracy: 1.0000\n",
            "Epoch 33/100\n",
            "8/8 [==============================] - 6s 745ms/step - loss: 0.0044 - accuracy: 1.0000 - val_loss: 0.0352 - val_accuracy: 1.0000\n",
            "Epoch 34/100\n",
            "8/8 [==============================] - 6s 741ms/step - loss: 0.0207 - accuracy: 0.9875 - val_loss: 0.0071 - val_accuracy: 1.0000\n",
            "Epoch 35/100\n",
            "8/8 [==============================] - 6s 742ms/step - loss: 0.0080 - accuracy: 1.0000 - val_loss: 0.0143 - val_accuracy: 1.0000\n",
            "Epoch 36/100\n",
            "8/8 [==============================] - 6s 740ms/step - loss: 0.0075 - accuracy: 1.0000 - val_loss: 0.0203 - val_accuracy: 1.0000\n",
            "Epoch 37/100\n",
            "8/8 [==============================] - 6s 727ms/step - loss: 0.0165 - accuracy: 1.0000 - val_loss: 0.0233 - val_accuracy: 1.0000\n",
            "Epoch 38/100\n",
            "8/8 [==============================] - 6s 725ms/step - loss: 0.0071 - accuracy: 1.0000 - val_loss: 0.0249 - val_accuracy: 1.0000\n",
            "Epoch 39/100\n",
            "8/8 [==============================] - 6s 733ms/step - loss: 0.0053 - accuracy: 1.0000 - val_loss: 0.0238 - val_accuracy: 1.0000\n",
            "Epoch 40/100\n",
            "8/8 [==============================] - 6s 734ms/step - loss: 0.0111 - accuracy: 1.0000 - val_loss: 0.0097 - val_accuracy: 1.0000\n",
            "Epoch 41/100\n",
            "8/8 [==============================] - 6s 735ms/step - loss: 0.0076 - accuracy: 1.0000 - val_loss: 0.0103 - val_accuracy: 1.0000\n",
            "Epoch 42/100\n",
            "8/8 [==============================] - 6s 729ms/step - loss: 0.0060 - accuracy: 1.0000 - val_loss: 0.0174 - val_accuracy: 1.0000\n",
            "Epoch 43/100\n",
            "8/8 [==============================] - 6s 740ms/step - loss: 0.0037 - accuracy: 1.0000 - val_loss: 0.0127 - val_accuracy: 1.0000\n",
            "Epoch 44/100\n",
            "8/8 [==============================] - 6s 740ms/step - loss: 0.0063 - accuracy: 1.0000 - val_loss: 0.0052 - val_accuracy: 1.0000\n",
            "Epoch 45/100\n",
            "8/8 [==============================] - 6s 723ms/step - loss: 0.0063 - accuracy: 1.0000 - val_loss: 0.0168 - val_accuracy: 1.0000\n",
            "Epoch 46/100\n",
            "8/8 [==============================] - 6s 743ms/step - loss: 0.0057 - accuracy: 1.0000 - val_loss: 0.0133 - val_accuracy: 1.0000\n",
            "Epoch 47/100\n",
            "8/8 [==============================] - 6s 724ms/step - loss: 0.0124 - accuracy: 1.0000 - val_loss: 0.0099 - val_accuracy: 1.0000\n",
            "Epoch 48/100\n",
            "8/8 [==============================] - 6s 732ms/step - loss: 0.0120 - accuracy: 1.0000 - val_loss: 0.0206 - val_accuracy: 1.0000\n",
            "Epoch 49/100\n",
            "8/8 [==============================] - 6s 753ms/step - loss: 0.0128 - accuracy: 1.0000 - val_loss: 0.0570 - val_accuracy: 0.9500\n",
            "Epoch 50/100\n",
            "8/8 [==============================] - 6s 730ms/step - loss: 0.0129 - accuracy: 1.0000 - val_loss: 0.0079 - val_accuracy: 1.0000\n",
            "Epoch 51/100\n",
            "8/8 [==============================] - 6s 745ms/step - loss: 0.0056 - accuracy: 1.0000 - val_loss: 0.0127 - val_accuracy: 1.0000\n",
            "Epoch 52/100\n",
            "8/8 [==============================] - 6s 739ms/step - loss: 0.0033 - accuracy: 1.0000 - val_loss: 0.0033 - val_accuracy: 1.0000\n",
            "Epoch 53/100\n",
            "8/8 [==============================] - 6s 743ms/step - loss: 0.0037 - accuracy: 1.0000 - val_loss: 0.0137 - val_accuracy: 1.0000\n",
            "Epoch 54/100\n",
            "8/8 [==============================] - 6s 733ms/step - loss: 0.0042 - accuracy: 1.0000 - val_loss: 0.0034 - val_accuracy: 1.0000\n",
            "Epoch 55/100\n",
            "8/8 [==============================] - 6s 721ms/step - loss: 0.0066 - accuracy: 1.0000 - val_loss: 0.0063 - val_accuracy: 1.0000\n",
            "Epoch 56/100\n",
            "8/8 [==============================] - 6s 726ms/step - loss: 0.0046 - accuracy: 1.0000 - val_loss: 0.0064 - val_accuracy: 1.0000\n",
            "Epoch 57/100\n",
            "8/8 [==============================] - 6s 734ms/step - loss: 0.0089 - accuracy: 1.0000 - val_loss: 0.0135 - val_accuracy: 1.0000\n",
            "Epoch 58/100\n",
            "8/8 [==============================] - 6s 739ms/step - loss: 0.0051 - accuracy: 1.0000 - val_loss: 0.0204 - val_accuracy: 1.0000\n",
            "Epoch 59/100\n",
            "8/8 [==============================] - 6s 738ms/step - loss: 0.0057 - accuracy: 1.0000 - val_loss: 0.0068 - val_accuracy: 1.0000\n",
            "Epoch 60/100\n",
            "8/8 [==============================] - 6s 748ms/step - loss: 0.0020 - accuracy: 1.0000 - val_loss: 0.0021 - val_accuracy: 1.0000\n",
            "Epoch 61/100\n",
            "8/8 [==============================] - 6s 741ms/step - loss: 0.0026 - accuracy: 1.0000 - val_loss: 0.0106 - val_accuracy: 1.0000\n",
            "Epoch 62/100\n",
            "8/8 [==============================] - 6s 737ms/step - loss: 0.0065 - accuracy: 1.0000 - val_loss: 0.0072 - val_accuracy: 1.0000\n",
            "Epoch 63/100\n",
            "8/8 [==============================] - 6s 745ms/step - loss: 0.0028 - accuracy: 1.0000 - val_loss: 0.0106 - val_accuracy: 1.0000\n",
            "Epoch 64/100\n",
            "8/8 [==============================] - 6s 742ms/step - loss: 0.0078 - accuracy: 1.0000 - val_loss: 0.0037 - val_accuracy: 1.0000\n",
            "Epoch 65/100\n",
            "8/8 [==============================] - 6s 745ms/step - loss: 0.0053 - accuracy: 1.0000 - val_loss: 0.0086 - val_accuracy: 1.0000\n",
            "Epoch 66/100\n",
            "8/8 [==============================] - 6s 742ms/step - loss: 0.0030 - accuracy: 1.0000 - val_loss: 0.0070 - val_accuracy: 1.0000\n",
            "Epoch 67/100\n",
            "8/8 [==============================] - 6s 738ms/step - loss: 0.0071 - accuracy: 1.0000 - val_loss: 0.0055 - val_accuracy: 1.0000\n",
            "Epoch 68/100\n",
            "8/8 [==============================] - 6s 738ms/step - loss: 0.0093 - accuracy: 0.9875 - val_loss: 0.0047 - val_accuracy: 1.0000\n",
            "Epoch 69/100\n",
            "8/8 [==============================] - 6s 752ms/step - loss: 0.0035 - accuracy: 1.0000 - val_loss: 0.0038 - val_accuracy: 1.0000\n",
            "Epoch 70/100\n",
            "8/8 [==============================] - 6s 753ms/step - loss: 0.0032 - accuracy: 1.0000 - val_loss: 0.0089 - val_accuracy: 1.0000\n",
            "Epoch 71/100\n",
            "8/8 [==============================] - 6s 745ms/step - loss: 0.0014 - accuracy: 1.0000 - val_loss: 0.0014 - val_accuracy: 1.0000\n",
            "Epoch 72/100\n",
            "8/8 [==============================] - 6s 742ms/step - loss: 0.0020 - accuracy: 1.0000 - val_loss: 0.0020 - val_accuracy: 1.0000\n",
            "Epoch 73/100\n",
            "8/8 [==============================] - 6s 741ms/step - loss: 0.0011 - accuracy: 1.0000 - val_loss: 0.0107 - val_accuracy: 1.0000\n",
            "Epoch 74/100\n",
            "8/8 [==============================] - 6s 743ms/step - loss: 0.0011 - accuracy: 1.0000 - val_loss: 0.0107 - val_accuracy: 1.0000\n",
            "Epoch 75/100\n",
            "8/8 [==============================] - 6s 726ms/step - loss: 0.0042 - accuracy: 1.0000 - val_loss: 0.0366 - val_accuracy: 1.0000\n",
            "Epoch 76/100\n",
            "8/8 [==============================] - 6s 738ms/step - loss: 0.0093 - accuracy: 1.0000 - val_loss: 0.0075 - val_accuracy: 1.0000\n",
            "Epoch 77/100\n",
            "8/8 [==============================] - 6s 724ms/step - loss: 0.0072 - accuracy: 1.0000 - val_loss: 0.0278 - val_accuracy: 0.9500\n",
            "Epoch 78/100\n",
            "8/8 [==============================] - 6s 736ms/step - loss: 0.0106 - accuracy: 1.0000 - val_loss: 0.0399 - val_accuracy: 0.9500\n",
            "Epoch 79/100\n",
            "8/8 [==============================] - 6s 745ms/step - loss: 0.0351 - accuracy: 0.9875 - val_loss: 0.0058 - val_accuracy: 1.0000\n",
            "Epoch 80/100\n",
            "8/8 [==============================] - 6s 731ms/step - loss: 0.0111 - accuracy: 1.0000 - val_loss: 0.0517 - val_accuracy: 0.9500\n",
            "Epoch 81/100\n",
            "8/8 [==============================] - 6s 749ms/step - loss: 0.0062 - accuracy: 1.0000 - val_loss: 0.0099 - val_accuracy: 1.0000\n",
            "Epoch 82/100\n",
            "8/8 [==============================] - 6s 747ms/step - loss: 0.0035 - accuracy: 1.0000 - val_loss: 0.0055 - val_accuracy: 1.0000\n",
            "Epoch 83/100\n",
            "8/8 [==============================] - 6s 744ms/step - loss: 0.0043 - accuracy: 1.0000 - val_loss: 0.0058 - val_accuracy: 1.0000\n",
            "Epoch 84/100\n",
            "8/8 [==============================] - 6s 727ms/step - loss: 0.0016 - accuracy: 1.0000 - val_loss: 0.0032 - val_accuracy: 1.0000\n",
            "Epoch 85/100\n",
            "8/8 [==============================] - 6s 726ms/step - loss: 0.0048 - accuracy: 1.0000 - val_loss: 0.0176 - val_accuracy: 1.0000\n",
            "Epoch 86/100\n",
            "8/8 [==============================] - 6s 736ms/step - loss: 0.0012 - accuracy: 1.0000 - val_loss: 0.0064 - val_accuracy: 1.0000\n",
            "Epoch 87/100\n",
            "8/8 [==============================] - 6s 738ms/step - loss: 0.0021 - accuracy: 1.0000 - val_loss: 0.0036 - val_accuracy: 1.0000\n",
            "Epoch 88/100\n",
            "8/8 [==============================] - 6s 734ms/step - loss: 0.0021 - accuracy: 1.0000 - val_loss: 0.0087 - val_accuracy: 1.0000\n",
            "Epoch 89/100\n",
            "8/8 [==============================] - 6s 742ms/step - loss: 0.0048 - accuracy: 1.0000 - val_loss: 0.0042 - val_accuracy: 1.0000\n",
            "Epoch 90/100\n",
            "8/8 [==============================] - 6s 750ms/step - loss: 0.0014 - accuracy: 1.0000 - val_loss: 0.0025 - val_accuracy: 1.0000\n",
            "Epoch 91/100\n",
            "8/8 [==============================] - 6s 743ms/step - loss: 0.0018 - accuracy: 1.0000 - val_loss: 0.0034 - val_accuracy: 1.0000\n",
            "Epoch 92/100\n",
            "8/8 [==============================] - 6s 730ms/step - loss: 0.0017 - accuracy: 1.0000 - val_loss: 0.0038 - val_accuracy: 1.0000\n",
            "Epoch 93/100\n",
            "8/8 [==============================] - 6s 737ms/step - loss: 0.0014 - accuracy: 1.0000 - val_loss: 0.0014 - val_accuracy: 1.0000\n",
            "Epoch 94/100\n",
            "8/8 [==============================] - 6s 748ms/step - loss: 9.8373e-04 - accuracy: 1.0000 - val_loss: 0.0056 - val_accuracy: 1.0000\n",
            "Epoch 95/100\n",
            "8/8 [==============================] - 6s 737ms/step - loss: 0.0030 - accuracy: 1.0000 - val_loss: 0.0039 - val_accuracy: 1.0000\n",
            "Epoch 96/100\n",
            "8/8 [==============================] - 6s 745ms/step - loss: 0.0012 - accuracy: 1.0000 - val_loss: 0.0016 - val_accuracy: 1.0000\n",
            "Epoch 97/100\n",
            "8/8 [==============================] - 6s 751ms/step - loss: 0.0019 - accuracy: 1.0000 - val_loss: 7.6024e-04 - val_accuracy: 1.0000\n",
            "Epoch 98/100\n",
            "8/8 [==============================] - 6s 743ms/step - loss: 8.4860e-04 - accuracy: 1.0000 - val_loss: 0.0016 - val_accuracy: 1.0000\n",
            "Epoch 99/100\n",
            "8/8 [==============================] - 6s 749ms/step - loss: 9.8016e-04 - accuracy: 1.0000 - val_loss: 0.0107 - val_accuracy: 1.0000\n",
            "Epoch 100/100\n",
            "8/8 [==============================] - 6s 735ms/step - loss: 7.8728e-04 - accuracy: 1.0000 - val_loss: 0.0016 - val_accuracy: 1.0000\n"
          ]
        }
      ]
    },
    {
      "cell_type": "code",
      "source": [
        "acc = history.history['accuracy']\n",
        "val_acc = history.history['val_accuracy']\n",
        "\n",
        "loss = history.history['loss']\n",
        "val_loss = history.history['val_loss']"
      ],
      "metadata": {
        "id": "MjmUwrB1p2Tq"
      },
      "execution_count": null,
      "outputs": []
    },
    {
      "cell_type": "code",
      "source": [
        "plt.figure(figsize=(8, 8))\n",
        "plt.subplot(2, 1, 1)\n",
        "plt.plot(acc, label='Training Accuracy')\n",
        "plt.plot(val_acc, label='Validation Accuracy')\n",
        "plt.ylim([min(plt.ylim()), 1])\n",
        "plt.plot([9,9],\n",
        "          plt.ylim(), label='Start Fine Tuning')\n",
        "plt.legend(loc='lower right')\n",
        "plt.title('Training and Validation Accuracy')\n",
        "\n",
        "plt.subplot(2, 1, 2)\n",
        "plt.plot(loss, label='Training Loss')\n",
        "plt.plot(val_loss, label='Validation Loss')\n",
        "plt.ylim([min(plt.ylim()), 1.0])\n",
        "plt.plot([9,9],\n",
        "          plt.ylim(), label='Start Fine Tuning')\n",
        "plt.legend(loc='upper right')\n",
        "plt.title('Training and Validation Loss')\n",
        "plt.xlabel('epoch')\n",
        "plt.show()"
      ],
      "metadata": {
        "colab": {
          "base_uri": "https://localhost:8080/",
          "height": 513
        },
        "id": "9dBlgI_Mp6IC",
        "outputId": "0e69221e-0e89-4b01-ce95-6b1f413dbb98"
      },
      "execution_count": null,
      "outputs": [
        {
          "output_type": "display_data",
          "data": {
            "image/png": "[encoded data removed]",
            "text/plain": [
              "<Figure size 576x576 with 2 Axes>"
            ]
          },
          "metadata": {
            "needs_background": "light"
          }
        }
      ]
    },
    {
      "cell_type": "code",
      "source": [
        "model.save('model_spada.h5')"
      ],
      "metadata": {
        "id": "e3WOgJH6tz7r"
      },
      "execution_count": null,
      "outputs": []
    }
  ]
}